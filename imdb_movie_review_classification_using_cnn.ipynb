{
  "metadata": {
    "kernelspec": {
      "display_name": "Python 3",
      "name": "python3"
    },
    "language_info": {
      "codemirror_mode": {
        "name": "ipython",
        "version": 3
      },
      "file_extension": ".py",
      "mimetype": "text/x-python",
      "name": "python",
      "nbconvert_exporter": "python",
      "pygments_lexer": "ipython3",
      "version": "3.9.12"
    },
    "colab": {
      "provenance": [],
      "gpuType": "T4",
      "include_colab_link": true
    },
    "accelerator": "GPU"
  },
  "nbformat_minor": 0,
  "nbformat": 4,
  "cells": [
    {
      "cell_type": "markdown",
      "metadata": {
        "id": "view-in-github",
        "colab_type": "text"
      },
      "source": [
        "<a href=\"https://colab.research.google.com/github/anas1IA/CNN_IMDB/blob/main/imdb_movie_review_classification_using_cnn.ipynb\" target=\"_parent\"><img src=\"https://colab.research.google.com/assets/colab-badge.svg\" alt=\"Open In Colab\"/></a>"
      ]
    },
    {
      "cell_type": "markdown",
      "source": [
        "## IMDB Movie Review Classification\n"
      ],
      "metadata": {
        "id": "4ynzPqne-L4o"
      }
    },
    {
      "cell_type": "markdown",
      "source": [
        "# <a id=\"0\" style=\"color:#6a5acd;\">Table of Content</a>\n",
        "   \n",
        "- <a href='#1' style=\"color:#6a5acd;\">Import Libraries</a>  \n",
        "- <a href='#2' style=\"color:#6a5acd;\">Setting Parameters </a>  \n",
        "- <a href='#3' style=\"color:#6a5acd;\">Dataset</a>\n",
        "- <a href='#4' style=\"color:#6a5acd;\">Data Processing</a>\n",
        "- <a href='#4' style=\"color:#6a5acd;\">CNN Architecture</a>\n",
        "    - <a href='#41' style=\"color:#6a5acd;\">Embedding() Method</a>\n",
        "    - <a href='#42' style=\"color:#6a5acd;\">Conv1D() Method</a>\n",
        "    - <a href='#42' style=\"color:#6a5acd;\">MaxPool1D() Method</a>\n",
        "- <a href='#5' style=\"color:#6a5acd;\">Defining Several CNN Models with different parameters</a>\n",
        "- <a href='#6' style=\"color:#6a5acd;\">CNN Model - 1</a>\n",
        "    - <a href='#61' style=\"color:#6a5acd;\">%%time</a>\n",
        "    - <a href='#62' style=\"color:#6a5acd;\">legend() Method </a>\n",
        "- <a href='#7' style=\"color:#6a5acd;\">CNN Model - 2</a>\n",
        "    - <a href='#71' style=\"color:#6a5acd;\">Reshape() Method </a>\n",
        "    - <a href='#72' style=\"color:#6a5acd;\">GlobalMaxPool2D() Method</a>\n",
        "- <a href='#8' style=\"color:#6a5acd;\">CNN Model - 3</a>\n",
        "    - <a href='#81' style=\"color:#6a5acd;\">Input() Method</a>\n",
        "    - <a href='#82' style=\"color:#6a5acd;\">concatenate() Method</a>\n",
        "    - <a href='#83' style=\"color:#6a5acd;\">Dropout() Method</a>\n",
        "- <a href='#9' style=\"color:#6a5acd;\">CNN Model - 4</a>\n",
        "- <a href='#10' style=\"color:#6a5acd;\">Conclusions</a>"
      ],
      "metadata": {
        "id": "sJ0Qf7sg-L5N"
      }
    },
    {
      "cell_type": "markdown",
      "source": [
        "# <a id=\"1\" style=\"color:#6a5acd;\"> Import Libraries</a>\n"
      ],
      "metadata": {
        "id": "9t6sO14W-L5S"
      }
    },
    {
      "cell_type": "code",
      "source": [
        "import numpy as np\n",
        "import matplotlib.pyplot as plt\n",
        "\n",
        "from tensorflow.keras.datasets import imdb\n",
        "from tensorflow.keras.preprocessing.sequence import pad_sequences\n",
        "\n",
        "from tensorflow.keras.models import Sequential, Model\n",
        "from tensorflow.keras.layers import Dense, Dropout, Activation, Conv1D, Reshape, Conv2D, GlobalMaxPool2D, MaxPool1D, Embedding, Flatten, MaxPool2D, concatenate, Input, MaxPooling2D, BatchNormalization\n",
        "from tensorflow.keras import optimizers\n",
        "\n",
        "from sklearn.metrics import confusion_matrix\n",
        "from sklearn.metrics import classification_report\n"
      ],
      "metadata": {
        "execution": {
          "iopub.execute_input": "2022-09-30T09:30:00.171964Z",
          "iopub.status.busy": "2022-09-30T09:30:00.171456Z",
          "iopub.status.idle": "2022-09-30T09:30:06.763281Z",
          "shell.execute_reply": "2022-09-30T09:30:06.762092Z",
          "shell.execute_reply.started": "2022-09-30T09:30:00.171855Z"
        },
        "id": "eiui1TdX-L5U"
      },
      "execution_count": 1,
      "outputs": []
    },
    {
      "cell_type": "markdown",
      "source": [
        "# <a id=\"2\" style=\"color:#6a5acd;\">Setting Parameters</a>\n",
        "[**<span style=\"color:#FEF1FE;background-color:#6a5acd;border-radius: 5px;padding: 2px\">Back to Table of Content</span>**](#0)"
      ],
      "metadata": {
        "id": "PXjXTOS5-L5W"
      }
    },
    {
      "cell_type": "code",
      "source": [
        "num_features = 3000\n",
        "sequence_length = 300\n",
        "embedding_dimension = 100"
      ],
      "metadata": {
        "execution": {
          "iopub.execute_input": "2022-09-30T09:30:06.768758Z",
          "iopub.status.busy": "2022-09-30T09:30:06.767847Z",
          "iopub.status.idle": "2022-09-30T09:30:06.782431Z",
          "shell.execute_reply": "2022-09-30T09:30:06.781486Z",
          "shell.execute_reply.started": "2022-09-30T09:30:06.768717Z"
        },
        "id": "Qx9homSD-L5X"
      },
      "execution_count": 2,
      "outputs": []
    },
    {
      "cell_type": "markdown",
      "source": [
        "# <a id=\"3\" style=\"color:#6a5acd;\"> Dataset</a>\n",
        "\n",
        "[**<span style=\"color:#FEF1FE;background-color:#6a5acd;border-radius: 5px;padding: 2px\">Back to Table of Content</span>**](#0)\n",
        "\n",
        "* From `tensorflow.keras.datasets`, we will import `imdb movie review` data\n",
        "* We are going to build a model `imdb movie review classification` with `CNN`(convolutional neural network)\n",
        "* Dataset is split into (Train Features, Train Labels), (Test Features, Test Labels)\n",
        "* Each review is marked with `0` for a `negative review` or `1` for a `positive review`\n",
        "* `num_words` Words are ranked by how often they occur (in the training set). num_words most frequent words are kept. Any less frequent word will appear as oov_char value in the sequence data\n",
        "* Here, `num_words` is set `3000`"
      ],
      "metadata": {
        "id": "4bHOEgnd-L5Y"
      }
    },
    {
      "cell_type": "code",
      "source": [
        "(x_train, y_train), (x_test, y_test) = imdb.load_data(num_words = num_features)"
      ],
      "metadata": {
        "execution": {
          "iopub.execute_input": "2022-09-30T09:30:06.784817Z",
          "iopub.status.busy": "2022-09-30T09:30:06.783929Z",
          "iopub.status.idle": "2022-09-30T09:30:12.255283Z",
          "shell.execute_reply": "2022-09-30T09:30:12.254342Z",
          "shell.execute_reply.started": "2022-09-30T09:30:06.784565Z"
        },
        "colab": {
          "base_uri": "https://localhost:8080/"
        },
        "id": "hkfbzt6v-L5Y",
        "outputId": "c7528e46-acd1-48d3-abf9-36517b994198"
      },
      "execution_count": 3,
      "outputs": [
        {
          "output_type": "stream",
          "name": "stdout",
          "text": [
            "Downloading data from https://storage.googleapis.com/tensorflow/tf-keras-datasets/imdb.npz\n",
            "17464789/17464789 [==============================] - 0s 0us/step\n"
          ]
        }
      ]
    },
    {
      "cell_type": "code",
      "source": [
        "y_train[:5]"
      ],
      "metadata": {
        "execution": {
          "iopub.execute_input": "2022-09-30T09:30:12.258384Z",
          "iopub.status.busy": "2022-09-30T09:30:12.258017Z",
          "iopub.status.idle": "2022-09-30T09:30:12.266075Z",
          "shell.execute_reply": "2022-09-30T09:30:12.265102Z",
          "shell.execute_reply.started": "2022-09-30T09:30:12.258347Z"
        },
        "colab": {
          "base_uri": "https://localhost:8080/"
        },
        "id": "hp1nLejO-L5b",
        "outputId": "26915a75-98d2-4222-e61c-136ce997cd40"
      },
      "execution_count": 4,
      "outputs": [
        {
          "output_type": "execute_result",
          "data": {
            "text/plain": [
              "array([1, 0, 0, 1, 0])"
            ]
          },
          "metadata": {},
          "execution_count": 4
        }
      ]
    },
    {
      "cell_type": "markdown",
      "source": [
        "# <a id=\"4\" style=\"color:#6a5acd;\"> Data Processing</a>\n",
        "\n"
      ],
      "metadata": {
        "id": "H-0VlNLt-L5c"
      }
    },
    {
      "cell_type": "markdown",
      "source": [
        "**<a id=\"41\" style=\"color:#6a5acd;\">tensorflow.keras.preprocessing.sequence.pad_sequences()</a>**\n",
        "\n",
        "\n",
        "\n",
        "* `num_timesteps` is either the `maxlen` argument if provided,\n",
        "or the length of the longest sequence in the list\n",
        "\n",
        "* Sequences that are shorter than `num_timesteps`\n",
        "are padded with `value` until they are `num_timesteps` long.\n",
        "\n",
        "* Sequences longer than `num_timesteps` are truncated\n",
        "so that they fit the desired length.\n",
        "\n",
        "* The position where padding or truncation happens is determined by\n",
        "the arguments `padding` and `truncating`, respectively.\n",
        "* `Pre-padding` or `removing values from the beginning` of the sequence is the\n",
        "default."
      ],
      "metadata": {
        "id": "cvQGgotT-L5d"
      }
    },
    {
      "cell_type": "code",
      "source": [
        "X_train = pad_sequences(x_train, maxlen = sequence_length)\n",
        "X_test = pad_sequences(x_test, maxlen = sequence_length)"
      ],
      "metadata": {
        "execution": {
          "iopub.execute_input": "2022-09-30T09:30:12.269779Z",
          "iopub.status.busy": "2022-09-30T09:30:12.268553Z",
          "iopub.status.idle": "2022-09-30T09:30:12.924067Z",
          "shell.execute_reply": "2022-09-30T09:30:12.922944Z",
          "shell.execute_reply.started": "2022-09-30T09:30:12.269676Z"
        },
        "id": "7hp6mKfP-L5f"
      },
      "execution_count": 5,
      "outputs": []
    },
    {
      "cell_type": "code",
      "source": [
        "X_train"
      ],
      "metadata": {
        "execution": {
          "iopub.execute_input": "2022-09-30T09:30:12.925961Z",
          "iopub.status.busy": "2022-09-30T09:30:12.925613Z",
          "iopub.status.idle": "2022-09-30T09:30:12.935804Z",
          "shell.execute_reply": "2022-09-30T09:30:12.934647Z",
          "shell.execute_reply.started": "2022-09-30T09:30:12.925924Z"
        },
        "colab": {
          "base_uri": "https://localhost:8080/"
        },
        "id": "xRkb7Vi_-L5g",
        "outputId": "088e97ed-dc10-4813-e181-4d291be10f06"
      },
      "execution_count": 6,
      "outputs": [
        {
          "output_type": "execute_result",
          "data": {
            "text/plain": [
              "array([[  0,   0,   0, ...,  19, 178,  32],\n",
              "       [  0,   0,   0, ...,  16, 145,  95],\n",
              "       [  0,   0,   0, ...,   7, 129, 113],\n",
              "       ...,\n",
              "       [  0,   0,   0, ...,   4,   2,   2],\n",
              "       [  0,   0,   0, ...,  12,   9,  23],\n",
              "       [  0,   0,   0, ..., 204, 131,   9]], dtype=int32)"
            ]
          },
          "metadata": {},
          "execution_count": 6
        }
      ]
    },
    {
      "cell_type": "code",
      "source": [
        "print(X_train.shape)\n",
        "print(X_test.shape)\n",
        "print(y_train.shape)\n",
        "print(y_test.shape)"
      ],
      "metadata": {
        "execution": {
          "iopub.execute_input": "2022-09-30T09:30:12.938244Z",
          "iopub.status.busy": "2022-09-30T09:30:12.937585Z",
          "iopub.status.idle": "2022-09-30T09:30:12.945066Z",
          "shell.execute_reply": "2022-09-30T09:30:12.943999Z",
          "shell.execute_reply.started": "2022-09-30T09:30:12.938193Z"
        },
        "colab": {
          "base_uri": "https://localhost:8080/"
        },
        "id": "cgLMkzXX-L5h",
        "outputId": "38df927d-b984-447c-970e-75509bb7a5cb"
      },
      "execution_count": 7,
      "outputs": [
        {
          "output_type": "stream",
          "name": "stdout",
          "text": [
            "(25000, 300)\n",
            "(25000, 300)\n",
            "(25000,)\n",
            "(25000,)\n"
          ]
        }
      ]
    },
    {
      "cell_type": "markdown",
      "source": [
        "# <a id=\"4\" style=\"color:#6a5acd;\"> CNN Architecture </a>\n",
        "\n",
        "* Application of convolutional neural networks is the same as in image data.\n",
        "* Only difference, 1D convolutions are applied instead of 2D convolutions.\n",
        "* In images, the kernel slides in 2D; but in sequence data like text data the kernel slides in one dimension.\n"
      ],
      "metadata": {
        "id": "pDpidAcz-L5h"
      }
    },
    {
      "cell_type": "markdown",
      "source": [
        "**<a id=\"41\" style=\"color:#6a5acd;\">tensorflow.keras.layers.Embedding()</a>**\n",
        "\n"
      ],
      "metadata": {
        "id": "xUnT-epY-L5i"
      }
    },
    {
      "cell_type": "markdown",
      "source": [
        "**<a id=\"42\" style=\"color:#6a5acd;\">tensorflow.keras.layers.Conv1D()</a>**\n",
        "\n"
      ],
      "metadata": {
        "id": "pEIIvMMR-L5i"
      }
    },
    {
      "cell_type": "markdown",
      "source": [
        "**<a id=\"43\" style=\"color:#6a5acd;\">tensorflow.keras.layers.MaxPool1D()</a>**\n",
        "\n"
      ],
      "metadata": {
        "id": "PT2YzZik-L5j"
      }
    },
    {
      "cell_type": "markdown",
      "source": [
        "# <a id=\"5\" style=\"color:#6a5acd;\"> Defining Several CNN Models with different parameters </a>\n",
        "\n",
        "\n",
        "\n",
        "* Here, we are going to build several `CNN` model with different parameters\n",
        "* It is done to compare different model's performance\n",
        "* and finally to obtain the better result, reducing `overfitting`"
      ],
      "metadata": {
        "id": "7zvMMWDq-L5k"
      }
    },
    {
      "cell_type": "markdown",
      "source": [
        "# <a id=\"6\" style=\"color:#6a5acd;\">CNN Model - 1</a>\n"
      ],
      "metadata": {
        "id": "4xhW8nwe-L5k"
      }
    },
    {
      "cell_type": "markdown",
      "source": [
        "**<a id=\"52\" style=\"color:#6a5acd;\">%%time</a>**\n",
        "* It's a magic command.\n",
        "* a part of IPython.\n",
        "* prints the `wall time` for the entire cell"
      ],
      "metadata": {
        "id": "ahF_AIb0-L5l"
      }
    },
    {
      "cell_type": "markdown",
      "source": [
        "**<a id=\"53\" style=\"color:#6a5acd;\">matplotlib.pyplot.legend()</a>**\n",
        "\n"
      ],
      "metadata": {
        "id": "tqi1yCBu-L5l"
      }
    },
    {
      "cell_type": "code",
      "source": [
        "\n",
        "class IMDbCNN:\n",
        "    def __init__(self, num_features, sequence_length, embedding_dimension):\n",
        "        self.num_features = num_features\n",
        "        self.sequence_length = sequence_length\n",
        "        self.embedding_dimension = embedding_dimension\n",
        "\n",
        "    def build_model(self):\n",
        "        model = Sequential()\n",
        "        model.add(Embedding(input_dim=self.num_features, output_dim=self.embedding_dimension, input_length=self.sequence_length))\n",
        "        model.add(Conv1D(filters=50, kernel_size=5, strides=1, padding='valid'))\n",
        "        model.add(MaxPool1D(2, padding='valid'))\n",
        "        model.add(Flatten())\n",
        "        model.add(Dense(10))\n",
        "        model.add(Activation('relu'))\n",
        "        model.add(Dense(1))\n",
        "        model.add(Activation('sigmoid'))\n",
        "        adam = optimizers.Adam(learning_rate=0.001)\n",
        "        model.compile(loss='binary_crossentropy', optimizer=adam, metrics=['accuracy'])\n",
        "\n",
        "        return model\n",
        "\n"
      ],
      "metadata": {
        "execution": {
          "iopub.execute_input": "2022-09-30T09:30:12.946980Z",
          "iopub.status.busy": "2022-09-30T09:30:12.946637Z",
          "iopub.status.idle": "2022-09-30T09:30:12.956139Z",
          "shell.execute_reply": "2022-09-30T09:30:12.955246Z",
          "shell.execute_reply.started": "2022-09-30T09:30:12.946947Z"
        },
        "id": "OHhbJIdF-L5m"
      },
      "execution_count": 8,
      "outputs": []
    },
    {
      "cell_type": "code",
      "source": [
        "imdb_model = IMDbCNN(num_features, sequence_length, embedding_dimension)\n",
        "model = imdb_model.build_model()"
      ],
      "metadata": {
        "id": "k3nf8UbRPqDJ"
      },
      "execution_count": 9,
      "outputs": []
    },
    {
      "cell_type": "code",
      "source": [
        "model.summary()"
      ],
      "metadata": {
        "execution": {
          "iopub.execute_input": "2022-09-30T09:30:15.596569Z",
          "iopub.status.busy": "2022-09-30T09:30:15.596291Z",
          "iopub.status.idle": "2022-09-30T09:30:15.603683Z",
          "shell.execute_reply": "2022-09-30T09:30:15.602641Z",
          "shell.execute_reply.started": "2022-09-30T09:30:15.596543Z"
        },
        "colab": {
          "base_uri": "https://localhost:8080/"
        },
        "id": "b3nvGviw-L5n",
        "outputId": "16c4df9a-e6da-40b0-a609-2da2da5375e8"
      },
      "execution_count": 10,
      "outputs": [
        {
          "output_type": "stream",
          "name": "stdout",
          "text": [
            "Model: \"sequential\"\n",
            "_________________________________________________________________\n",
            " Layer (type)                Output Shape              Param #   \n",
            "=================================================================\n",
            " embedding (Embedding)       (None, 300, 100)          300000    \n",
            "                                                                 \n",
            " conv1d (Conv1D)             (None, 296, 50)           25050     \n",
            "                                                                 \n",
            " max_pooling1d (MaxPooling1  (None, 148, 50)           0         \n",
            " D)                                                              \n",
            "                                                                 \n",
            " flatten (Flatten)           (None, 7400)              0         \n",
            "                                                                 \n",
            " dense (Dense)               (None, 10)                74010     \n",
            "                                                                 \n",
            " activation (Activation)     (None, 10)                0         \n",
            "                                                                 \n",
            " dense_1 (Dense)             (None, 1)                 11        \n",
            "                                                                 \n",
            " activation_1 (Activation)   (None, 1)                 0         \n",
            "                                                                 \n",
            "=================================================================\n",
            "Total params: 399071 (1.52 MB)\n",
            "Trainable params: 399071 (1.52 MB)\n",
            "Non-trainable params: 0 (0.00 Byte)\n",
            "_________________________________________________________________\n"
          ]
        }
      ]
    },
    {
      "cell_type": "code",
      "source": [
        "%%time\n",
        "history = model.fit(X_train, y_train, batch_size = 50, epochs = 100, validation_split=0.2, verbose = 0)"
      ],
      "metadata": {
        "execution": {
          "iopub.execute_input": "2022-09-30T09:30:15.605769Z",
          "iopub.status.busy": "2022-09-30T09:30:15.605336Z",
          "iopub.status.idle": "2022-09-30T09:33:38.334507Z",
          "shell.execute_reply": "2022-09-30T09:33:38.333257Z",
          "shell.execute_reply.started": "2022-09-30T09:30:15.605734Z"
        },
        "colab": {
          "base_uri": "https://localhost:8080/"
        },
        "id": "_9H0uVXk-L5o",
        "outputId": "59ae87cc-43d3-45a1-84dc-16de00794283"
      },
      "execution_count": 11,
      "outputs": [
        {
          "output_type": "stream",
          "name": "stdout",
          "text": [
            "CPU times: user 3min 45s, sys: 14.9 s, total: 4min\n",
            "Wall time: 4min 23s\n"
          ]
        }
      ]
    },
    {
      "cell_type": "code",
      "source": [
        "plt.plot(history.history['accuracy'])\n",
        "plt.plot(history.history['val_accuracy'])\n",
        "plt.legend(['training', 'validation'], loc='upper left')\n",
        "plt.show()"
      ],
      "metadata": {
        "execution": {
          "iopub.execute_input": "2022-09-30T09:33:38.336864Z",
          "iopub.status.busy": "2022-09-30T09:33:38.336484Z",
          "iopub.status.idle": "2022-09-30T09:33:38.546022Z",
          "shell.execute_reply": "2022-09-30T09:33:38.545127Z",
          "shell.execute_reply.started": "2022-09-30T09:33:38.336829Z"
        },
        "colab": {
          "base_uri": "https://localhost:8080/",
          "height": 430
        },
        "id": "MxgXcFKn-L5o",
        "outputId": "762e3795-7bdc-4313-a44e-badff71af59c"
      },
      "execution_count": 12,
      "outputs": [
        {
          "output_type": "display_data",
          "data": {
            "text/plain": [
              "<Figure size 640x480 with 1 Axes>"
            ],
            "image/png": "[encoded data removed]"
          },
          "metadata": {}
        }
      ]
    },
    {
      "cell_type": "code",
      "source": [
        "results = model.evaluate(X_test, y_test)"
      ],
      "metadata": {
        "execution": {
          "iopub.execute_input": "2022-09-30T09:33:38.548470Z",
          "iopub.status.busy": "2022-09-30T09:33:38.547183Z",
          "iopub.status.idle": "2022-09-30T09:33:40.546519Z",
          "shell.execute_reply": "2022-09-30T09:33:40.545576Z",
          "shell.execute_reply.started": "2022-09-30T09:33:38.548432Z"
        },
        "colab": {
          "base_uri": "https://localhost:8080/"
        },
        "id": "IkTMmvoD-L5p",
        "outputId": "b4b96745-dd59-48b8-ab58-9ce4b9de09d8"
      },
      "execution_count": 13,
      "outputs": [
        {
          "output_type": "stream",
          "name": "stdout",
          "text": [
            "782/782 [==============================] - 3s 3ms/step - loss: 1.5812 - accuracy: 0.8568\n"
          ]
        }
      ]
    },
    {
      "cell_type": "code",
      "source": [
        "print('Test Accuracy : ', results[1])"
      ],
      "metadata": {
        "execution": {
          "iopub.execute_input": "2022-09-30T09:33:40.548607Z",
          "iopub.status.busy": "2022-09-30T09:33:40.548214Z",
          "iopub.status.idle": "2022-09-30T09:33:40.556141Z",
          "shell.execute_reply": "2022-09-30T09:33:40.555090Z",
          "shell.execute_reply.started": "2022-09-30T09:33:40.548571Z"
        },
        "colab": {
          "base_uri": "https://localhost:8080/"
        },
        "id": "B3MfWbbT-L5q",
        "outputId": "3fdf0c72-6561-4aa7-9bbc-d133cb1b766b"
      },
      "execution_count": 14,
      "outputs": [
        {
          "output_type": "stream",
          "name": "stdout",
          "text": [
            "Test Accuracy :  0.8568000197410583\n"
          ]
        }
      ]
    },
    {
      "cell_type": "markdown",
      "source": [
        "# <a id=\"7\" style=\"color:#6a5acd;\">CNN Model - 2</a>\n",
        "\n"
      ],
      "metadata": {
        "id": "UWfVqoZW-L5r"
      }
    },
    {
      "cell_type": "code",
      "source": [
        "\n",
        "class IMDbCNN2:\n",
        "    def __init__(self, num_features, sequence_length, embedding_dimension):\n",
        "        self.num_features = num_features\n",
        "        self.sequence_length = sequence_length\n",
        "        self.embedding_dimension = embedding_dimension\n",
        "\n",
        "    def build_model(self):\n",
        "        model = Sequential()\n",
        "        model.add(Embedding(input_dim=self.num_features, output_dim=self.embedding_dimension, input_length=self.sequence_length))\n",
        "        model.add(Reshape((self.sequence_length, self.embedding_dimension, 1), input_shape=(self.sequence_length, self.embedding_dimension)))\n",
        "        model.add(Conv2D(filters=64, kernel_size=(5, self.embedding_dimension), strides=(1,1), padding='valid'))\n",
        "\n",
        "        model.add(GlobalMaxPool2D())\n",
        "\n",
        "        model.add(Dense(10))\n",
        "\n",
        "        model.add(Activation('relu'))\n",
        "\n",
        "        model.add(Dropout(0.3))\n",
        "\n",
        "        model.add(Dense(10))\n",
        "\n",
        "        model.add(Activation('relu'))\n",
        "\n",
        "        model.add(Dropout(0.3))\n",
        "\n",
        "        model.add(Dense(1))\n",
        "        model.add(Activation('sigmoid'))\n",
        "\n",
        "\n",
        "        adam = optimizers.Adam(lr=0.001)\n",
        "        model.compile(loss='binary_crossentropy', optimizer=adam, metrics=['accuracy'])\n",
        "\n",
        "        return model"
      ],
      "metadata": {
        "execution": {
          "iopub.execute_input": "2022-09-30T09:33:40.557935Z",
          "iopub.status.busy": "2022-09-30T09:33:40.557550Z",
          "iopub.status.idle": "2022-09-30T09:33:40.567658Z",
          "shell.execute_reply": "2022-09-30T09:33:40.566558Z",
          "shell.execute_reply.started": "2022-09-30T09:33:40.557898Z"
        },
        "id": "TAaqZ4Cx-L5t"
      },
      "execution_count": 15,
      "outputs": []
    },
    {
      "cell_type": "code",
      "source": [
        "imdb_model_2 = IMDbCNN2(num_features, sequence_length, embedding_dimension)\n",
        "model = imdb_model_2.build_model()"
      ],
      "metadata": {
        "execution": {
          "iopub.execute_input": "2022-09-30T09:33:40.569612Z",
          "iopub.status.busy": "2022-09-30T09:33:40.569197Z",
          "iopub.status.idle": "2022-09-30T09:33:40.639968Z",
          "shell.execute_reply": "2022-09-30T09:33:40.639091Z",
          "shell.execute_reply.started": "2022-09-30T09:33:40.569577Z"
        },
        "colab": {
          "base_uri": "https://localhost:8080/"
        },
        "id": "0d9E-_Vt-L5t",
        "outputId": "b3f817ff-e934-4b39-a05d-c0a42230b1c7"
      },
      "execution_count": 16,
      "outputs": [
        {
          "output_type": "stream",
          "name": "stderr",
          "text": [
            "WARNING:absl:`lr` is deprecated in Keras optimizer, please use `learning_rate` or use the legacy optimizer, e.g.,tf.keras.optimizers.legacy.Adam.\n"
          ]
        }
      ]
    },
    {
      "cell_type": "code",
      "source": [
        "%%time\n",
        "history = model.fit(X_train, y_train, batch_size = 64, epochs = 100, validation_split=0.2, verbose = 0)"
      ],
      "metadata": {
        "execution": {
          "iopub.execute_input": "2022-09-30T09:33:40.641734Z",
          "iopub.status.busy": "2022-09-30T09:33:40.641386Z",
          "iopub.status.idle": "2022-09-30T09:36:03.403783Z",
          "shell.execute_reply": "2022-09-30T09:36:03.402598Z",
          "shell.execute_reply.started": "2022-09-30T09:33:40.641700Z"
        },
        "colab": {
          "base_uri": "https://localhost:8080/"
        },
        "id": "crGdWuTZ-L5u",
        "outputId": "70887431-a200-4511-e1f6-edc758258b53"
      },
      "execution_count": 17,
      "outputs": [
        {
          "output_type": "stream",
          "name": "stdout",
          "text": [
            "CPU times: user 3min 54s, sys: 14.6 s, total: 4min 9s\n",
            "Wall time: 4min 23s\n"
          ]
        }
      ]
    },
    {
      "cell_type": "code",
      "source": [
        "plt.plot(history.history['accuracy'])\n",
        "plt.plot(history.history['val_accuracy'])\n",
        "plt.legend(['training', 'validation'], loc = 'upper left')\n",
        "plt.show()"
      ],
      "metadata": {
        "execution": {
          "iopub.execute_input": "2022-09-30T09:36:03.406351Z",
          "iopub.status.busy": "2022-09-30T09:36:03.405941Z",
          "iopub.status.idle": "2022-09-30T09:36:03.602476Z",
          "shell.execute_reply": "2022-09-30T09:36:03.601551Z",
          "shell.execute_reply.started": "2022-09-30T09:36:03.406313Z"
        },
        "colab": {
          "base_uri": "https://localhost:8080/",
          "height": 430
        },
        "id": "qDv7ibx2-L5v",
        "outputId": "86967354-2e5f-42fc-a987-2cb325fb1b33"
      },
      "execution_count": 18,
      "outputs": [
        {
          "output_type": "display_data",
          "data": {
            "text/plain": [
              "<Figure size 640x480 with 1 Axes>"
            ],
            "image/png": "[encoded data removed]"
          },
          "metadata": {}
        }
      ]
    },
    {
      "cell_type": "code",
      "source": [
        "results = model.evaluate(X_test, y_test)"
      ],
      "metadata": {
        "execution": {
          "iopub.execute_input": "2022-09-30T09:36:03.604567Z",
          "iopub.status.busy": "2022-09-30T09:36:03.603974Z",
          "iopub.status.idle": "2022-09-30T09:36:05.185850Z",
          "shell.execute_reply": "2022-09-30T09:36:05.184928Z",
          "shell.execute_reply.started": "2022-09-30T09:36:03.604529Z"
        },
        "colab": {
          "base_uri": "https://localhost:8080/"
        },
        "id": "DV4DmFno-L5w",
        "outputId": "c68f650d-14f1-4fe2-eea6-522cc4df7aff"
      },
      "execution_count": 19,
      "outputs": [
        {
          "output_type": "stream",
          "name": "stdout",
          "text": [
            "782/782 [==============================] - 3s 3ms/step - loss: 2.3421 - accuracy: 0.8743\n"
          ]
        }
      ]
    },
    {
      "cell_type": "code",
      "source": [
        "print('Test Accuracy :', results[1])"
      ],
      "metadata": {
        "execution": {
          "iopub.execute_input": "2022-09-30T09:36:05.188005Z",
          "iopub.status.busy": "2022-09-30T09:36:05.187142Z",
          "iopub.status.idle": "2022-09-30T09:36:05.194407Z",
          "shell.execute_reply": "2022-09-30T09:36:05.193367Z",
          "shell.execute_reply.started": "2022-09-30T09:36:05.187965Z"
        },
        "colab": {
          "base_uri": "https://localhost:8080/"
        },
        "id": "CXEzVCIs-L5w",
        "outputId": "74618414-3823-4dab-bd6c-0daa454c7d91"
      },
      "execution_count": 20,
      "outputs": [
        {
          "output_type": "stream",
          "name": "stdout",
          "text": [
            "Test Accuracy : 0.8743199706077576\n"
          ]
        }
      ]
    },
    {
      "cell_type": "markdown",
      "source": [
        "# <a id=\"8\" style=\"color:#6a5acd;\">CNN Model - 3</a>\n"
      ],
      "metadata": {
        "id": "YuXoNZo4-L5x"
      }
    },
    {
      "cell_type": "markdown",
      "source": [
        "**<a id=\"81\" style=\"color:#6a5acd;\">tensorflow.keras.layers.Input()</a>**\n"
      ],
      "metadata": {
        "id": "4TYd3oH6-L5y"
      }
    },
    {
      "cell_type": "markdown",
      "source": [
        "**<a id=\"82\" style=\"color:#6a5acd;\">tensorflow.keras.layers.concatenate()</a>**\n",
        "\n",
        "* Layer that concatenates a list of inputs.\n",
        "* It takes as input a list of tensors, all of the same shape except for the concatenation axis,\n",
        "* and returns a single tensor that is the concatenation of all inputs"
      ],
      "metadata": {
        "id": "VrG3Ob_W-L5z"
      }
    },
    {
      "cell_type": "markdown",
      "source": [
        "**<a id=\"83\" style=\"color:#6a5acd;\">tensorflow.keras.layers.Dropout()</a>**\n",
        "\n",
        "* `Dropout` layer randomly sets input units to 0 with a frequency of `rate`\n",
        "at each step during training time, which helps prevent overfitting\n",
        "* Inputs not set to 0 are scaled up by 1/(1 - rate) such that the sum over\n",
        "all inputs is unchanged\n",
        "* Dropout layer only applies when `training` is set to True\n",
        "such that no values are dropped during inference.\n",
        "* When using `model.fit`,`training` will be appropriately set to True automatically\n",
        "* In other contexts, we can set the kwarg explicitly to True when calling the layer"
      ],
      "metadata": {
        "id": "9qOaKMHW-L5z"
      }
    },
    {
      "cell_type": "code",
      "source": [
        "filter_sizes = [3, 4, 5]"
      ],
      "metadata": {
        "execution": {
          "iopub.execute_input": "2022-09-30T09:36:05.196795Z",
          "iopub.status.busy": "2022-09-30T09:36:05.196036Z",
          "iopub.status.idle": "2022-09-30T09:36:05.203088Z",
          "shell.execute_reply": "2022-09-30T09:36:05.202264Z",
          "shell.execute_reply.started": "2022-09-30T09:36:05.196759Z"
        },
        "id": "CPWffzDu-L50"
      },
      "execution_count": 21,
      "outputs": []
    },
    {
      "cell_type": "code",
      "source": [
        "\n",
        "class IMDbCNN3:\n",
        "    def __init__(self, num_features, sequence_length, embedding_dimension, filter_sizes):\n",
        "        self.num_features = num_features\n",
        "        self.sequence_length = sequence_length\n",
        "        self.embedding_dimension = embedding_dimension\n",
        "        self.filter_sizes = filter_sizes\n",
        "\n",
        "    def build_model(self):\n",
        "        model = Sequential()\n",
        "\n",
        "        model.add(Embedding(input_dim=self.num_features, output_dim=self.embedding_dimension, input_length=self.sequence_length))\n",
        "\n",
        "        model.add(Reshape((self.sequence_length, self.embedding_dimension, 1), input_shape=(self.sequence_length, self.embedding_dimension)))\n",
        "\n",
        "        model.add(self.convolution())\n",
        "\n",
        "        model.add(Flatten())\n",
        "\n",
        "        model.add(Dense(10))\n",
        "\n",
        "        model.add(Activation('relu'))\n",
        "\n",
        "        model.add(Dropout(0.3))\n",
        "\n",
        "        model.add(Dense(10))\n",
        "\n",
        "        model.add(Activation('relu'))\n",
        "\n",
        "        model.add(Dropout(0.3))\n",
        "\n",
        "\n",
        "        model.add(Dense(1))\n",
        "\n",
        "        model.add(Activation('sigmoid'))\n",
        "\n",
        "\n",
        "        adam = optimizers.Adam()\n",
        "        model.compile(loss='binary_crossentropy', optimizer=adam, metrics=['accuracy'])\n",
        "\n",
        "        return model\n",
        "\n",
        "    def convolution(self):\n",
        "        inn = Input(shape=(self.sequence_length, self.embedding_dimension, 1))\n",
        "\n",
        "        convolutions = []\n",
        "\n",
        "        for f in self.filter_sizes:\n",
        "            conv = Conv2D(filters=100, kernel_size=(f, self.embedding_dimension))(inn)\n",
        "            non_linearity = Activation('relu')(conv)\n",
        "            max_pool = MaxPooling2D(pool_size=(self.sequence_length - f + 1, 1))(non_linearity)\n",
        "            convolutions.append(max_pool)\n",
        "\n",
        "        out = concatenate(convolutions)\n",
        "        model = Model(inputs=inn, outputs=out)\n",
        "\n",
        "        return model\n",
        "\n",
        "\n"
      ],
      "metadata": {
        "execution": {
          "iopub.execute_input": "2022-09-30T09:36:05.206303Z",
          "iopub.status.busy": "2022-09-30T09:36:05.205428Z",
          "iopub.status.idle": "2022-09-30T09:36:05.213198Z",
          "shell.execute_reply": "2022-09-30T09:36:05.212513Z",
          "shell.execute_reply.started": "2022-09-30T09:36:05.206258Z"
        },
        "id": "4i9p3A9z-L51"
      },
      "execution_count": 22,
      "outputs": []
    },
    {
      "cell_type": "code",
      "source": [
        "filter_sizes = [3, 4, 5]"
      ],
      "metadata": {
        "id": "xBhuI1f3Rry4"
      },
      "execution_count": 23,
      "outputs": []
    },
    {
      "cell_type": "code",
      "source": [
        "\n",
        "imdb_model_3 = IMDbCNN3(num_features, sequence_length, embedding_dimension, filter_sizes)\n",
        "model = imdb_model_3.build_model()"
      ],
      "metadata": {
        "id": "0vW_eTF9RpX1"
      },
      "execution_count": 24,
      "outputs": []
    },
    {
      "cell_type": "code",
      "source": [
        "%%time\n",
        "model.fit(X_train, y_train, batch_size = 64, epochs = 100, validation_split = 0.2, verbose = 0)"
      ],
      "metadata": {
        "execution": {
          "iopub.execute_input": "2022-09-30T09:36:05.339561Z",
          "iopub.status.busy": "2022-09-30T09:36:05.339202Z",
          "iopub.status.idle": "2022-09-30T09:42:07.395264Z",
          "shell.execute_reply": "2022-09-30T09:42:07.394204Z",
          "shell.execute_reply.started": "2022-09-30T09:36:05.339526Z"
        },
        "colab": {
          "base_uri": "https://localhost:8080/"
        },
        "id": "PMuX8yLM-L54",
        "outputId": "2f6b716a-07c6-4a1a-bc8e-91f1dc5326b4"
      },
      "execution_count": 25,
      "outputs": [
        {
          "output_type": "stream",
          "name": "stdout",
          "text": [
            "CPU times: user 8min, sys: 17 s, total: 8min 17s\n",
            "Wall time: 9min 23s\n"
          ]
        },
        {
          "output_type": "execute_result",
          "data": {
            "text/plain": [
              "<keras.src.callbacks.History at 0x7f44e8f16410>"
            ]
          },
          "metadata": {},
          "execution_count": 25
        }
      ]
    },
    {
      "cell_type": "code",
      "source": [
        "plt.plot(history.history['accuracy'])\n",
        "plt.plot(history.history['val_accuracy'])\n",
        "plt.legend(['training', 'validation'], loc='upper left')\n",
        "plt.show()"
      ],
      "metadata": {
        "execution": {
          "iopub.execute_input": "2022-09-30T09:42:07.397160Z",
          "iopub.status.busy": "2022-09-30T09:42:07.396824Z",
          "iopub.status.idle": "2022-09-30T09:42:07.595159Z",
          "shell.execute_reply": "2022-09-30T09:42:07.594143Z",
          "shell.execute_reply.started": "2022-09-30T09:42:07.397127Z"
        },
        "colab": {
          "base_uri": "https://localhost:8080/",
          "height": 430
        },
        "id": "Q33ZYxMP-L55",
        "outputId": "72f1acf4-7d97-4d0b-c7f3-c5826cc1bad2"
      },
      "execution_count": 26,
      "outputs": [
        {
          "output_type": "display_data",
          "data": {
            "text/plain": [
              "<Figure size 640x480 with 1 Axes>"
            ],
            "image/png": "[encoded data removed]"
          },
          "metadata": {}
        }
      ]
    },
    {
      "cell_type": "code",
      "source": [
        "results = model.evaluate(X_test, y_test)"
      ],
      "metadata": {
        "execution": {
          "iopub.execute_input": "2022-09-30T09:42:07.596713Z",
          "iopub.status.busy": "2022-09-30T09:42:07.596363Z",
          "iopub.status.idle": "2022-09-30T09:42:10.675026Z",
          "shell.execute_reply": "2022-09-30T09:42:10.674134Z",
          "shell.execute_reply.started": "2022-09-30T09:42:07.596672Z"
        },
        "colab": {
          "base_uri": "https://localhost:8080/"
        },
        "id": "_Pk7Wojp-L56",
        "outputId": "daf0d456-613d-4758-bdba-e8aff35d85e6"
      },
      "execution_count": 27,
      "outputs": [
        {
          "output_type": "stream",
          "name": "stdout",
          "text": [
            "782/782 [==============================] - 3s 4ms/step - loss: 1.8036 - accuracy: 0.8716\n"
          ]
        }
      ]
    },
    {
      "cell_type": "code",
      "source": [
        "print(\"Test Accuracy:\", results[1])"
      ],
      "metadata": {
        "execution": {
          "iopub.execute_input": "2022-09-30T09:42:10.680474Z",
          "iopub.status.busy": "2022-09-30T09:42:10.680117Z",
          "iopub.status.idle": "2022-09-30T09:42:10.686988Z",
          "shell.execute_reply": "2022-09-30T09:42:10.685886Z",
          "shell.execute_reply.started": "2022-09-30T09:42:10.680446Z"
        },
        "colab": {
          "base_uri": "https://localhost:8080/"
        },
        "id": "TPkNQD86-L57",
        "outputId": "6bf83531-eae0-447c-9c9d-3f50606814f2"
      },
      "execution_count": 28,
      "outputs": [
        {
          "output_type": "stream",
          "name": "stdout",
          "text": [
            "Test Accuracy: 0.8715599775314331\n"
          ]
        }
      ]
    },
    {
      "cell_type": "markdown",
      "source": [
        "# <a id=\"9\" style=\"color:#6a5acd;\">CNN Model - 4</a>"
      ],
      "metadata": {
        "id": "64T1aHWv-L58"
      }
    },
    {
      "cell_type": "markdown",
      "source": [
        "**<a id=\"91\" style=\"color:#6a5acd;\">tensorflow.keras.layers.BatchNormalization()</a>**\n",
        "\n",
        "* `Batch Normalization` applies a transformation that maintains the mean output\n",
        "close to 0 and the output standard deviation close to 1.\n",
        "\n",
        "* batch normalization works differently during `training` and\n",
        "during `inference`\n",
        "\n",
        "* During `training` i.e. when `training=True`, the layer normalizes its output using\n",
        "the mean and standard deviation of the current batch of inputs\n",
        "\n",
        "* During `inference` (i.e. when `training=False` (which is the\n",
        "default), the layer normalizes its output using a moving average of the\n",
        "mean and standard deviation of the batches it has seen during training\n",
        "\n",
        "* So, the layer will only normalize its inputs during inference after having been trained on data that has `similar statistics` as the `inference data`"
      ],
      "metadata": {
        "id": "olvPL4V5-L59"
      }
    },
    {
      "cell_type": "code",
      "source": [
        "\n",
        "class IMDbCNN4:\n",
        "    def __init__(self, num_features, sequence_length, embedding_dimension, filter_sizes):\n",
        "        self.num_features = num_features\n",
        "        self.sequence_length = sequence_length\n",
        "        self.embedding_dimension = embedding_dimension\n",
        "        self.filter_sizes = filter_sizes\n",
        "\n",
        "    def build_model(self):\n",
        "        model = Sequential()\n",
        "\n",
        "        model.add(Embedding(input_dim=self.num_features, output_dim=self.embedding_dimension, input_length=self.sequence_length))\n",
        "\n",
        "        model.add(Reshape((self.sequence_length, self.embedding_dimension, 1), input_shape=(self.sequence_length, self.embedding_dimension)))\n",
        "\n",
        "        model.add(Dropout(0.5))\n",
        "\n",
        "        model.add(self.convolution())\n",
        "\n",
        "        model.add(Flatten())\n",
        "\n",
        "        model.add(Dense(10))\n",
        "\n",
        "        model.add(BatchNormalization())\n",
        "\n",
        "        model.add(Activation('relu'))\n",
        "\n",
        "        model.add(Dropout(0.5))\n",
        "\n",
        "        model.add(Dense(1))\n",
        "\n",
        "        model.add(Activation('sigmoid'))\n",
        "\n",
        "        adam = optimizers.Adam()\n",
        "        model.compile(loss='binary_crossentropy', optimizer=adam, metrics=['accuracy'])\n",
        "\n",
        "        return model\n",
        "\n",
        "    def convolution(self):\n",
        "        inn = Input(shape=(self.sequence_length, self.embedding_dimension, 1))\n",
        "\n",
        "        convolutions = []\n",
        "\n",
        "        for f in self.filter_sizes:\n",
        "            conv = Conv2D(filters=100, kernel_size=(f, self.embedding_dimension))(inn)\n",
        "            max_pool = MaxPooling2D(pool_size=(self.sequence_length - f + 1, 1))(conv)\n",
        "            convolutions.append(max_pool)\n",
        "\n",
        "        out = concatenate(convolutions)\n",
        "        model = Model(inputs=inn, outputs=out)\n",
        "\n",
        "        return model\n",
        "\n",
        "\n"
      ],
      "metadata": {
        "execution": {
          "iopub.execute_input": "2022-09-30T09:42:10.689285Z",
          "iopub.status.busy": "2022-09-30T09:42:10.688405Z",
          "iopub.status.idle": "2022-09-30T09:42:10.697655Z",
          "shell.execute_reply": "2022-09-30T09:42:10.696748Z",
          "shell.execute_reply.started": "2022-09-30T09:42:10.689249Z"
        },
        "id": "ZL6b3-Vl-L5-"
      },
      "execution_count": 29,
      "outputs": []
    },
    {
      "cell_type": "code",
      "source": [
        "filter_sizes = [3, 4, 5]"
      ],
      "metadata": {
        "execution": {
          "iopub.execute_input": "2022-09-30T09:42:10.699394Z",
          "iopub.status.busy": "2022-09-30T09:42:10.698975Z",
          "iopub.status.idle": "2022-09-30T09:42:10.811280Z",
          "shell.execute_reply": "2022-09-30T09:42:10.810383Z",
          "shell.execute_reply.started": "2022-09-30T09:42:10.699360Z"
        },
        "id": "K8arL835-L5_"
      },
      "execution_count": 30,
      "outputs": []
    },
    {
      "cell_type": "code",
      "source": [
        "imdb_model_4 = IMDbCNN4(num_features, sequence_length, embedding_dimension, filter_sizes)\n",
        "model = imdb_model_4.build_model()"
      ],
      "metadata": {
        "id": "M9FM54mpSyo0"
      },
      "execution_count": 31,
      "outputs": []
    },
    {
      "cell_type": "code",
      "source": [
        "%%time\n",
        "history = model.fit(X_train, y_train, batch_size = 64, epochs = 100, validation_split = 0.2, verbose = 0)"
      ],
      "metadata": {
        "execution": {
          "iopub.execute_input": "2022-09-30T09:42:10.813771Z",
          "iopub.status.busy": "2022-09-30T09:42:10.812970Z",
          "iopub.status.idle": "2022-09-30T09:48:33.690687Z",
          "shell.execute_reply": "2022-09-30T09:48:33.689635Z",
          "shell.execute_reply.started": "2022-09-30T09:42:10.813646Z"
        },
        "colab": {
          "base_uri": "https://localhost:8080/"
        },
        "id": "5CGiRkVc-L6A",
        "outputId": "9fc65a75-0a40-4dcb-9c1d-03327decef4f"
      },
      "execution_count": 32,
      "outputs": [
        {
          "output_type": "stream",
          "name": "stdout",
          "text": [
            "CPU times: user 7min 10s, sys: 17.6 s, total: 7min 28s\n",
            "Wall time: 8min 23s\n"
          ]
        }
      ]
    },
    {
      "cell_type": "code",
      "source": [
        "plt.plot(history.history['accuracy'])\n",
        "plt.plot(history.history['val_accuracy'])\n",
        "plt.legend(['training', 'validation'], loc = 'upper left')\n",
        "plt.show()"
      ],
      "metadata": {
        "execution": {
          "iopub.execute_input": "2022-09-30T09:48:33.692930Z",
          "iopub.status.busy": "2022-09-30T09:48:33.692551Z",
          "iopub.status.idle": "2022-09-30T09:48:33.877150Z",
          "shell.execute_reply": "2022-09-30T09:48:33.876242Z",
          "shell.execute_reply.started": "2022-09-30T09:48:33.692894Z"
        },
        "colab": {
          "base_uri": "https://localhost:8080/",
          "height": 430
        },
        "id": "Z6GNTc2V-L6B",
        "outputId": "796ae0bb-ed9c-47a8-b3ec-f66b6ed8d61a"
      },
      "execution_count": 33,
      "outputs": [
        {
          "output_type": "display_data",
          "data": {
            "text/plain": [
              "<Figure size 640x480 with 1 Axes>"
            ],
            "image/png": "[encoded data removed]"
          },
          "metadata": {}
        }
      ]
    },
    {
      "cell_type": "code",
      "source": [
        "results = model.evaluate(X_test, y_test)"
      ],
      "metadata": {
        "execution": {
          "iopub.execute_input": "2022-09-30T09:48:33.880030Z",
          "iopub.status.busy": "2022-09-30T09:48:33.879307Z",
          "iopub.status.idle": "2022-09-30T09:48:39.033263Z",
          "shell.execute_reply": "2022-09-30T09:48:39.032275Z",
          "shell.execute_reply.started": "2022-09-30T09:48:33.879994Z"
        },
        "colab": {
          "base_uri": "https://localhost:8080/"
        },
        "id": "a9kbh7BB-L6C",
        "outputId": "1abd96d1-5eab-4625-d63d-42daa6d034f7"
      },
      "execution_count": 34,
      "outputs": [
        {
          "output_type": "stream",
          "name": "stdout",
          "text": [
            "782/782 [==============================] - 3s 4ms/step - loss: 0.9930 - accuracy: 0.8696\n"
          ]
        }
      ]
    },
    {
      "cell_type": "code",
      "source": [
        "print(\"Test Accuracy:\", results[1])"
      ],
      "metadata": {
        "execution": {
          "iopub.execute_input": "2022-09-30T09:48:39.035175Z",
          "iopub.status.busy": "2022-09-30T09:48:39.034721Z",
          "iopub.status.idle": "2022-09-30T09:48:39.041129Z",
          "shell.execute_reply": "2022-09-30T09:48:39.039968Z",
          "shell.execute_reply.started": "2022-09-30T09:48:39.035137Z"
        },
        "colab": {
          "base_uri": "https://localhost:8080/"
        },
        "id": "vhPm-oPj-L6E",
        "outputId": "73176566-fe4d-4c9b-a5e6-cd430b869590"
      },
      "execution_count": 35,
      "outputs": [
        {
          "output_type": "stream",
          "name": "stdout",
          "text": [
            "Test Accuracy: 0.8695999979972839\n"
          ]
        }
      ]
    },
    {
      "cell_type": "markdown",
      "source": [
        "# <a id=\"10\" style=\"color:#6a5acd;\">Conclusions</a>\n",
        "\n",
        "\n",
        "\n",
        "* Gaining some insights, how `Convolutional neural network`(CNN) can be used in context of `NLP`\n",
        "* Here,`classification` is performed on `IMDB Movie review` dataset\n",
        "* CNN can also be implemented for other NLP tasks like machine translation, Sentiment Classification , Relation Classification , Textual Summarization, Answer Selection etc."
      ],
      "metadata": {
        "id": "vuupmBYs-L6F"
      }
    }
  ]
}